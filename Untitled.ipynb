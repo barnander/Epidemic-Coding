{
 "cells": [
  {
   "cell_type": "markdown",
   "id": "7c4f3354",
   "metadata": {},
   "source": [
    "# Project Report - Simulation of Epidemic Outbreak"
   ]
  },
  {
   "cell_type": "markdown",
   "id": "9e47776f",
   "metadata": {},
   "source": [
    "Our model is a simulation in which a disease outbreak spreads through a sample population in a grid, returning an animation of the grid through time, a line graph, and various statistics from the simulation. The simulation has a range of adjustable parameters: grid size, infection rate"
   ]
  },
  {
   "cell_type": "code",
   "execution_count": null,
   "id": "31ed3e10",
   "metadata": {},
   "outputs": [],
   "source": []
  }
 ],
 "metadata": {
  "kernelspec": {
   "display_name": "Python 3",
   "language": "python",
   "name": "python3"
  },
  "language_info": {
   "codemirror_mode": {
    "name": "ipython",
    "version": 3
   },
   "file_extension": ".py",
   "mimetype": "text/x-python",
   "name": "python",
   "nbconvert_exporter": "python",
   "pygments_lexer": "ipython3",
   "version": "3.8.8"
  }
 },
 "nbformat": 4,
 "nbformat_minor": 5
}
